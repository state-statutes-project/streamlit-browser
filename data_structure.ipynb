{
 "cells": [
  {
   "cell_type": "code",
   "execution_count": 16,
   "id": "ab6dcb6a-f308-4010-aeb5-dcef735ad579",
   "metadata": {},
   "outputs": [],
   "source": [
    "import json\n",
    "import pandas as pd"
   ]
  },
  {
   "cell_type": "code",
   "execution_count": 17,
   "id": "1865226c-a2e2-459f-afed-85b6ab03b0c7",
   "metadata": {},
   "outputs": [],
   "source": [
    "df = pd.read_parquet(\"data/processed_statutes.parquet\")"
   ]
  },
  {
   "cell_type": "code",
   "execution_count": 24,
   "id": "6870ef54-c099-4ad8-86b4-efb863c30421",
   "metadata": {},
   "outputs": [
    {
     "data": {
      "text/plain": [
       "Index(['jurisdiction', 'year', 'text', 'heading', 'path', 'legal_effects',\n",
       "       'remedy', 'entities', 'obligations', 'areas_of_law'],\n",
       "      dtype='object')"
      ]
     },
     "execution_count": 24,
     "metadata": {},
     "output_type": "execute_result"
    }
   ],
   "source": [
    "df.columns"
   ]
  },
  {
   "cell_type": "code",
   "execution_count": null,
   "id": "694b08d6-1aed-4575-bd71-55e1dadd4add",
   "metadata": {},
   "outputs": [],
   "source": []
  }
 ],
 "metadata": {
  "kernelspec": {
   "display_name": "Python 3 (ipykernel)",
   "language": "python",
   "name": "python3"
  },
  "language_info": {
   "codemirror_mode": {
    "name": "ipython",
    "version": 3
   },
   "file_extension": ".py",
   "mimetype": "text/x-python",
   "name": "python",
   "nbconvert_exporter": "python",
   "pygments_lexer": "ipython3",
   "version": "3.10.16"
  }
 },
 "nbformat": 4,
 "nbformat_minor": 5
}
